{
 "cells": [
  {
   "cell_type": "markdown",
   "id": "8ad75ec1",
   "metadata": {},
   "source": [
    "### Amazon Customer Feedback Analysis\n",
    "\n",
    "This program uses unsupervised & self-supervised NLP models such as VADER and RoBERTa to evaluate the sentiment of a review of an Amazon product."
   ]
  },
  {
   "cell_type": "code",
   "execution_count": 1,
   "id": "c924fbf1",
   "metadata": {},
   "outputs": [],
   "source": [
    "from bs4 import BeautifulSoup\n",
    "import requests\n",
    "import pandas as pd\n",
    "import numpy as np\n",
    "import datetime\n",
    "import seaborn as sns\n",
    "import matplotlib as plt\n",
    "import datetime"
   ]
  },
  {
   "cell_type": "code",
   "execution_count": 2,
   "id": "fdc27bb8",
   "metadata": {},
   "outputs": [],
   "source": [
    "url = 'https://www.amazon.com/Ordinary-Control-Face-Serum-30ml/dp/B09TSP9L59/ref=sr_1_5?keywords=the+ordinary+chemical+peel&qid=1655755762&sprefix=the+ordinary+che%2Caps%2C103&sr=8-5'\n",
    "headers = {\"User-Agent\": \"Mozilla/5.0 (Windows NT 10.0; Win64; x64) AppleWebKit/537.36 (KHTML, like Gecko) Chrome/78.0.3904.108 Safari/537.36\", \"Accept-Encoding\":\"gzip, deflate\", \"Accept\":\"text/html,application/xhtml+xml,application/xml;q=0.9,*/*;q=0.8\", \"DNT\":\"1\",\"Connection\":\"close\", \"Upgrade-Insecure-Requests\":\"1\"}"
   ]
  },
  {
   "cell_type": "code",
   "execution_count": 3,
   "id": "97646b9c",
   "metadata": {},
   "outputs": [],
   "source": [
    "pg = requests.get(url, headers = headers)\n",
    "\n",
    "soup = BeautifulSoup(pg.content, \"html.parser\")\n",
    "soup = BeautifulSoup(soup.prettify())\n",
    "title = soup.find(id='productTitle').string.strip()"
   ]
  },
  {
   "cell_type": "code",
   "execution_count": 4,
   "id": "3e28351f",
   "metadata": {},
   "outputs": [],
   "source": [
    "price = soup.find(\"span\", {\"class\": 'a-offscreen'}).get_text().strip().split()[0]"
   ]
  },
  {
   "cell_type": "code",
   "execution_count": 5,
   "id": "95c8962e",
   "metadata": {},
   "outputs": [
    {
     "name": "stdout",
     "output_type": "stream",
     "text": [
      "The New Ordinary AHA 30% + BHA 2% Oil Control Face Serum,30ml  costs  $14.80 as of 2022-08-04\n"
     ]
    },
    {
     "name": "stderr",
     "output_type": "stream",
     "text": [
      "C:\\Users\\alex_\\AppData\\Local\\Temp/ipykernel_44996/1832982044.py:1: FutureWarning: The pandas.datetime class is deprecated and will be removed from pandas in a future version. Import from datetime module instead.\n",
      "  print(title, \" costs \", price +\" as of \" + str(pd.datetime.now().date()) )\n"
     ]
    }
   ],
   "source": [
    "print(title, \" costs \", price +\" as of \" + str(pd.datetime.now().date()) )"
   ]
  },
  {
   "cell_type": "code",
   "execution_count": 6,
   "id": "94ada12f",
   "metadata": {},
   "outputs": [
    {
     "name": "stdout",
     "output_type": "stream",
     "text": [
      "Overall feeback : \n",
      "\n",
      "Overpriced\n",
      "\n",
      "THIS STUFF WORKS\n",
      "\n",
      "Love!\n",
      "\n",
      "Bueno\n",
      "\n",
      "Amazing!! Love it\n",
      "\n",
      "Es lo máximo!\n",
      "\n",
      "don't expect too much\n",
      "\n",
      "Good stuff\n",
      "\n"
     ]
    }
   ],
   "source": [
    "overall_feedback = soup.findAll(\"a\", {\"data-hook\": 'review-title'})\n",
    "\n",
    "print(\"Overall feeback : \" +  '\\n')\n",
    "fed = []\n",
    "\n",
    "for i in overall_feedback:\n",
    "  \n",
    "    fed.append(i.get_text().strip())\n",
    "    print(i.get_text().strip() + '\\n')"
   ]
  },
  {
   "cell_type": "code",
   "execution_count": 7,
   "id": "84947999",
   "metadata": {},
   "outputs": [
    {
     "name": "stdout",
     "output_type": "stream",
     "text": [
      "Reviews : \n",
      "\n",
      "Product is okay but overpriced with Amazon.  Next time will purchase from Sephora or Ulta for $8\n",
      "\n",
      "Products from The Ordinary are amazing, especially at their price point.  I ordered a variety of products from The Ordinary and discovered that I didn't understand what I needed.  If you are looking for a peeling solution that works, this is a great product.  When you put the product on your face, it looks like your face is bleeding.  You can scare your family members, fun times.  Since this product doesn't play, you may feel some tingling or burning.  If you're a weakling that gets frightened by any product sensation, this isn't for you.  I recommend a good serum, SPF, and moisturizer after use.\n",
      "\n",
      "It gives a beautiful glow !\n",
      "\n",
      "Un muy buen producto. Me está gustando mucho. Apenas lo use 3 semanas y si veo diferencia en mi piel.  Me esta dando muy buen resultado.\n",
      "\n",
      "Not sure why everyone in the reviews doesn’t like this product lol it’s amazing I love it!!\n",
      "\n",
      "Excelente producto. Recomendado\n",
      "\n",
      "The product leaves your skin smooth. Other than that, I haven’t notice a significant change. But Overall I recommend it.\n",
      "\n",
      "This stuff is strong. I actually exfoliate before I use it and it burns. I’m used to doing these things to my skin, and I know how my skin is, and what it can handle. That being said it works amazing. Reveals glowing smooth skin. I use once a month, but should probably use more often. I alternate with other products as well.\n",
      "\n"
     ]
    }
   ],
   "source": [
    "reviews = soup.findAll(\"div\", {\"data-hook\": 'review-collapsed'})\n",
    "\n",
    "print(\"Reviews : \" +  '\\n')\n",
    "rev = []\n",
    "\n",
    "for i in reviews:\n",
    "  \n",
    "    rev.append(i.get_text().strip())\n",
    "    print(i.get_text().strip() + '\\n')"
   ]
  },
  {
   "cell_type": "code",
   "execution_count": 8,
   "id": "7b13154f",
   "metadata": {},
   "outputs": [
    {
     "name": "stdout",
     "output_type": "stream",
     "text": [
      "Ratings : \n",
      "\n",
      "3.0 out of 5 stars\n",
      "\n",
      "5.0 out of 5 stars\n",
      "\n",
      "5.0 out of 5 stars\n",
      "\n",
      "5.0 out of 5 stars\n",
      "\n",
      "5.0 out of 5 stars\n",
      "\n",
      "5.0 out of 5 stars\n",
      "\n",
      "4.0 out of 5 stars\n",
      "\n",
      "5.0 out of 5 stars\n",
      "\n"
     ]
    }
   ],
   "source": [
    "#get rating\n",
    "ratings = soup.findAll(\"i\", {\"data-hook\": 'review-star-rating'})\n",
    "ratings\n",
    "\n",
    "print(\"Ratings : \" +  '\\n')\n",
    "rate = []\n",
    "\n",
    "for i in ratings:\n",
    "  \n",
    "    rate.append(i.get_text().strip()[:3])\n",
    "    print(i.get_text().strip() + '\\n')\n",
    "    "
   ]
  },
  {
   "cell_type": "code",
   "execution_count": 9,
   "id": "4e810262",
   "metadata": {},
   "outputs": [
    {
     "data": {
      "text/html": [
       "<div>\n",
       "<style scoped>\n",
       "    .dataframe tbody tr th:only-of-type {\n",
       "        vertical-align: middle;\n",
       "    }\n",
       "\n",
       "    .dataframe tbody tr th {\n",
       "        vertical-align: top;\n",
       "    }\n",
       "\n",
       "    .dataframe thead th {\n",
       "        text-align: right;\n",
       "    }\n",
       "</style>\n",
       "<table border=\"1\" class=\"dataframe\">\n",
       "  <thead>\n",
       "    <tr style=\"text-align: right;\">\n",
       "      <th></th>\n",
       "      <th>Person</th>\n",
       "      <th>Ratings</th>\n",
       "      <th>Overall feedback</th>\n",
       "      <th>Reviews</th>\n",
       "    </tr>\n",
       "  </thead>\n",
       "  <tbody>\n",
       "    <tr>\n",
       "      <th>0</th>\n",
       "      <td>1</td>\n",
       "      <td>3.0</td>\n",
       "      <td>Overpriced</td>\n",
       "      <td>Product is okay but overpriced with Amazon.  N...</td>\n",
       "    </tr>\n",
       "    <tr>\n",
       "      <th>1</th>\n",
       "      <td>2</td>\n",
       "      <td>5.0</td>\n",
       "      <td>THIS STUFF WORKS</td>\n",
       "      <td>Products from The Ordinary are amazing, especi...</td>\n",
       "    </tr>\n",
       "    <tr>\n",
       "      <th>2</th>\n",
       "      <td>3</td>\n",
       "      <td>5.0</td>\n",
       "      <td>Love!</td>\n",
       "      <td>It gives a beautiful glow !</td>\n",
       "    </tr>\n",
       "    <tr>\n",
       "      <th>3</th>\n",
       "      <td>4</td>\n",
       "      <td>5.0</td>\n",
       "      <td>Bueno</td>\n",
       "      <td>Un muy buen producto. Me está gustando mucho. ...</td>\n",
       "    </tr>\n",
       "    <tr>\n",
       "      <th>4</th>\n",
       "      <td>5</td>\n",
       "      <td>5.0</td>\n",
       "      <td>Amazing!! Love it</td>\n",
       "      <td>Not sure why everyone in the reviews doesn’t l...</td>\n",
       "    </tr>\n",
       "    <tr>\n",
       "      <th>5</th>\n",
       "      <td>6</td>\n",
       "      <td>5.0</td>\n",
       "      <td>Es lo máximo!</td>\n",
       "      <td>Excelente producto. Recomendado</td>\n",
       "    </tr>\n",
       "    <tr>\n",
       "      <th>6</th>\n",
       "      <td>7</td>\n",
       "      <td>4.0</td>\n",
       "      <td>don't expect too much</td>\n",
       "      <td>The product leaves your skin smooth. Other tha...</td>\n",
       "    </tr>\n",
       "    <tr>\n",
       "      <th>7</th>\n",
       "      <td>8</td>\n",
       "      <td>5.0</td>\n",
       "      <td>Good stuff</td>\n",
       "      <td>This stuff is strong. I actually exfoliate bef...</td>\n",
       "    </tr>\n",
       "  </tbody>\n",
       "</table>\n",
       "</div>"
      ],
      "text/plain": [
       "   Person Ratings       Overall feedback  \\\n",
       "0       1     3.0             Overpriced   \n",
       "1       2     5.0       THIS STUFF WORKS   \n",
       "2       3     5.0                  Love!   \n",
       "3       4     5.0                  Bueno   \n",
       "4       5     5.0      Amazing!! Love it   \n",
       "5       6     5.0          Es lo máximo!   \n",
       "6       7     4.0  don't expect too much   \n",
       "7       8     5.0             Good stuff   \n",
       "\n",
       "                                             Reviews  \n",
       "0  Product is okay but overpriced with Amazon.  N...  \n",
       "1  Products from The Ordinary are amazing, especi...  \n",
       "2                        It gives a beautiful glow !  \n",
       "3  Un muy buen producto. Me está gustando mucho. ...  \n",
       "4  Not sure why everyone in the reviews doesn’t l...  \n",
       "5                    Excelente producto. Recomendado  \n",
       "6  The product leaves your skin smooth. Other tha...  \n",
       "7  This stuff is strong. I actually exfoliate bef...  "
      ]
     },
     "execution_count": 9,
     "metadata": {},
     "output_type": "execute_result"
    }
   ],
   "source": [
    "person=[1,2,3,4,5,6,7,8]\n",
    "\n",
    "dict = {'Person': person, 'Ratings': rate, 'Overall feedback': fed,'Reviews': rev}\n",
    "df = pd.DataFrame(dict) \n",
    "df"
   ]
  },
  {
   "cell_type": "markdown",
   "id": "51f50308",
   "metadata": {},
   "source": [
    "#### Visualization"
   ]
  },
  {
   "cell_type": "code",
   "execution_count": 10,
   "id": "d70b2d3c",
   "metadata": {},
   "outputs": [
    {
     "data": {
      "text/plain": [
       "<AxesSubplot:title={'center':'Count of Reviews by Stars'}, xlabel='Review Stars', ylabel='Star Count'>"
      ]
     },
     "execution_count": 10,
     "metadata": {},
     "output_type": "execute_result"
    },
    {
     "data": {
      "image/png": "[encoded data removed]",
      "text/plain": [
       "<Figure size 432x288 with 1 Axes>"
      ]
     },
     "metadata": {
      "needs_background": "light"
     },
     "output_type": "display_data"
    }
   ],
   "source": [
    "ax = df['Ratings'].value_counts().sort_index().plot(kind='bar',title='Count of Reviews by Stars')\n",
    "\n",
    "ax.set_xlabel('Review Stars')\n",
    "ax.set_ylabel('Star Count')\n",
    "ax\n"
   ]
  },
  {
   "cell_type": "markdown",
   "id": "aa159bc8",
   "metadata": {},
   "source": [
    "#### Preprocess\n",
    "\n",
    "Remove stop words."
   ]
  },
  {
   "cell_type": "code",
   "execution_count": 11,
   "id": "a5858e18",
   "metadata": {},
   "outputs": [],
   "source": [
    "#Import dependencies\n",
    "import nltk\n",
    "from nltk.corpus import stopwords\n",
    "from textblob import Word, TextBlob"
   ]
  },
  {
   "cell_type": "code",
   "execution_count": 12,
   "id": "bac9358c",
   "metadata": {},
   "outputs": [],
   "source": [
    "stop_words = stopwords.words('english', 'spanish')"
   ]
  },
  {
   "cell_type": "code",
   "execution_count": 13,
   "id": "533b834f",
   "metadata": {},
   "outputs": [],
   "source": [
    "def preprocess_reviews(review, stop_words):\n",
    "    preprocessed_review = review\n",
    "    preprocessed_review.replace('[^\\w\\s]', '')\n",
    "    #remove word if it is a stop word\n",
    "    preprocessed_review = \" \".join(word for word in preprocessed_review.split() if word not in stop_words)\n",
    "    #reduce word to base format\n",
    "    preprocessed_review = \" \".join(Word(word).lemmatize() for word in preprocessed_review.split())\n",
    "    return preprocessed_review \n",
    "    "
   ]
  },
  {
   "cell_type": "code",
   "execution_count": 14,
   "id": "f636e770",
   "metadata": {},
   "outputs": [
    {
     "data": {
      "text/html": [
       "<div>\n",
       "<style scoped>\n",
       "    .dataframe tbody tr th:only-of-type {\n",
       "        vertical-align: middle;\n",
       "    }\n",
       "\n",
       "    .dataframe tbody tr th {\n",
       "        vertical-align: top;\n",
       "    }\n",
       "\n",
       "    .dataframe thead th {\n",
       "        text-align: right;\n",
       "    }\n",
       "</style>\n",
       "<table border=\"1\" class=\"dataframe\">\n",
       "  <thead>\n",
       "    <tr style=\"text-align: right;\">\n",
       "      <th></th>\n",
       "      <th>Person</th>\n",
       "      <th>Ratings</th>\n",
       "      <th>Overall feedback</th>\n",
       "      <th>Reviews</th>\n",
       "      <th>Preprocessed Reviews</th>\n",
       "    </tr>\n",
       "  </thead>\n",
       "  <tbody>\n",
       "    <tr>\n",
       "      <th>0</th>\n",
       "      <td>1</td>\n",
       "      <td>3.0</td>\n",
       "      <td>Overpriced</td>\n",
       "      <td>Product is okay but overpriced with Amazon.  N...</td>\n",
       "      <td>Product okay overpriced Amazon. Next time purc...</td>\n",
       "    </tr>\n",
       "    <tr>\n",
       "      <th>1</th>\n",
       "      <td>2</td>\n",
       "      <td>5.0</td>\n",
       "      <td>THIS STUFF WORKS</td>\n",
       "      <td>Products from The Ordinary are amazing, especi...</td>\n",
       "      <td>Products The Ordinary amazing, especially pric...</td>\n",
       "    </tr>\n",
       "    <tr>\n",
       "      <th>2</th>\n",
       "      <td>3</td>\n",
       "      <td>5.0</td>\n",
       "      <td>Love!</td>\n",
       "      <td>It gives a beautiful glow !</td>\n",
       "      <td>It give beautiful glow !</td>\n",
       "    </tr>\n",
       "    <tr>\n",
       "      <th>3</th>\n",
       "      <td>4</td>\n",
       "      <td>5.0</td>\n",
       "      <td>Bueno</td>\n",
       "      <td>Un muy buen producto. Me está gustando mucho. ...</td>\n",
       "      <td>Un muy buen producto. Me está gustando mucho. ...</td>\n",
       "    </tr>\n",
       "    <tr>\n",
       "      <th>4</th>\n",
       "      <td>5</td>\n",
       "      <td>5.0</td>\n",
       "      <td>Amazing!! Love it</td>\n",
       "      <td>Not sure why everyone in the reviews doesn’t l...</td>\n",
       "      <td>Not sure everyone review doesn’t like product ...</td>\n",
       "    </tr>\n",
       "    <tr>\n",
       "      <th>5</th>\n",
       "      <td>6</td>\n",
       "      <td>5.0</td>\n",
       "      <td>Es lo máximo!</td>\n",
       "      <td>Excelente producto. Recomendado</td>\n",
       "      <td>Excelente producto. Recomendado</td>\n",
       "    </tr>\n",
       "    <tr>\n",
       "      <th>6</th>\n",
       "      <td>7</td>\n",
       "      <td>4.0</td>\n",
       "      <td>don't expect too much</td>\n",
       "      <td>The product leaves your skin smooth. Other tha...</td>\n",
       "      <td>The product leaf skin smooth. Other that, I ha...</td>\n",
       "    </tr>\n",
       "    <tr>\n",
       "      <th>7</th>\n",
       "      <td>8</td>\n",
       "      <td>5.0</td>\n",
       "      <td>Good stuff</td>\n",
       "      <td>This stuff is strong. I actually exfoliate bef...</td>\n",
       "      <td>This stuff strong. I actually exfoliate I use ...</td>\n",
       "    </tr>\n",
       "  </tbody>\n",
       "</table>\n",
       "</div>"
      ],
      "text/plain": [
       "   Person Ratings       Overall feedback  \\\n",
       "0       1     3.0             Overpriced   \n",
       "1       2     5.0       THIS STUFF WORKS   \n",
       "2       3     5.0                  Love!   \n",
       "3       4     5.0                  Bueno   \n",
       "4       5     5.0      Amazing!! Love it   \n",
       "5       6     5.0          Es lo máximo!   \n",
       "6       7     4.0  don't expect too much   \n",
       "7       8     5.0             Good stuff   \n",
       "\n",
       "                                             Reviews  \\\n",
       "0  Product is okay but overpriced with Amazon.  N...   \n",
       "1  Products from The Ordinary are amazing, especi...   \n",
       "2                        It gives a beautiful glow !   \n",
       "3  Un muy buen producto. Me está gustando mucho. ...   \n",
       "4  Not sure why everyone in the reviews doesn’t l...   \n",
       "5                    Excelente producto. Recomendado   \n",
       "6  The product leaves your skin smooth. Other tha...   \n",
       "7  This stuff is strong. I actually exfoliate bef...   \n",
       "\n",
       "                                Preprocessed Reviews  \n",
       "0  Product okay overpriced Amazon. Next time purc...  \n",
       "1  Products The Ordinary amazing, especially pric...  \n",
       "2                           It give beautiful glow !  \n",
       "3  Un muy buen producto. Me está gustando mucho. ...  \n",
       "4  Not sure everyone review doesn’t like product ...  \n",
       "5                    Excelente producto. Recomendado  \n",
       "6  The product leaf skin smooth. Other that, I ha...  \n",
       "7  This stuff strong. I actually exfoliate I use ...  "
      ]
     },
     "execution_count": 14,
     "metadata": {},
     "output_type": "execute_result"
    }
   ],
   "source": [
    "df['Preprocessed Reviews'] = df['Reviews'].apply(lambda x: preprocess_reviews(x, stop_words))\n",
    "df"
   ]
  },
  {
   "cell_type": "markdown",
   "id": "d5dfb98c",
   "metadata": {},
   "source": [
    "### Sentiment Analysis"
   ]
  },
  {
   "cell_type": "markdown",
   "id": "6355e7ab",
   "metadata": {},
   "source": [
    "TextBlob"
   ]
  },
  {
   "cell_type": "code",
   "execution_count": 15,
   "id": "28096b31",
   "metadata": {},
   "outputs": [
    {
     "data": {
      "text/html": [
       "<div>\n",
       "<style scoped>\n",
       "    .dataframe tbody tr th:only-of-type {\n",
       "        vertical-align: middle;\n",
       "    }\n",
       "\n",
       "    .dataframe tbody tr th {\n",
       "        vertical-align: top;\n",
       "    }\n",
       "\n",
       "    .dataframe thead th {\n",
       "        text-align: right;\n",
       "    }\n",
       "</style>\n",
       "<table border=\"1\" class=\"dataframe\">\n",
       "  <thead>\n",
       "    <tr style=\"text-align: right;\">\n",
       "      <th></th>\n",
       "      <th>Person</th>\n",
       "      <th>Ratings</th>\n",
       "      <th>Overall feedback</th>\n",
       "      <th>Reviews</th>\n",
       "      <th>Preprocessed Reviews</th>\n",
       "      <th>Polarity</th>\n",
       "      <th>Subjectivity</th>\n",
       "    </tr>\n",
       "  </thead>\n",
       "  <tbody>\n",
       "    <tr>\n",
       "      <th>0</th>\n",
       "      <td>1</td>\n",
       "      <td>3.0</td>\n",
       "      <td>Overpriced</td>\n",
       "      <td>Product is okay but overpriced with Amazon.  N...</td>\n",
       "      <td>Product okay overpriced Amazon. Next time purc...</td>\n",
       "      <td>0.250000</td>\n",
       "      <td>0.250000</td>\n",
       "    </tr>\n",
       "    <tr>\n",
       "      <th>1</th>\n",
       "      <td>2</td>\n",
       "      <td>5.0</td>\n",
       "      <td>THIS STUFF WORKS</td>\n",
       "      <td>Products from The Ordinary are amazing, especi...</td>\n",
       "      <td>Products The Ordinary amazing, especially pric...</td>\n",
       "      <td>0.271429</td>\n",
       "      <td>0.635714</td>\n",
       "    </tr>\n",
       "    <tr>\n",
       "      <th>2</th>\n",
       "      <td>3</td>\n",
       "      <td>5.0</td>\n",
       "      <td>Love!</td>\n",
       "      <td>It gives a beautiful glow !</td>\n",
       "      <td>It give beautiful glow !</td>\n",
       "      <td>1.000000</td>\n",
       "      <td>1.000000</td>\n",
       "    </tr>\n",
       "    <tr>\n",
       "      <th>3</th>\n",
       "      <td>4</td>\n",
       "      <td>5.0</td>\n",
       "      <td>Bueno</td>\n",
       "      <td>Un muy buen producto. Me está gustando mucho. ...</td>\n",
       "      <td>Un muy buen producto. Me está gustando mucho. ...</td>\n",
       "      <td>0.000000</td>\n",
       "      <td>0.000000</td>\n",
       "    </tr>\n",
       "    <tr>\n",
       "      <th>4</th>\n",
       "      <td>5</td>\n",
       "      <td>5.0</td>\n",
       "      <td>Amazing!! Love it</td>\n",
       "      <td>Not sure why everyone in the reviews doesn’t l...</td>\n",
       "      <td>Not sure everyone review doesn’t like product ...</td>\n",
       "      <td>0.482813</td>\n",
       "      <td>0.772222</td>\n",
       "    </tr>\n",
       "  </tbody>\n",
       "</table>\n",
       "</div>"
      ],
      "text/plain": [
       "   Person Ratings   Overall feedback  \\\n",
       "0       1     3.0         Overpriced   \n",
       "1       2     5.0   THIS STUFF WORKS   \n",
       "2       3     5.0              Love!   \n",
       "3       4     5.0              Bueno   \n",
       "4       5     5.0  Amazing!! Love it   \n",
       "\n",
       "                                             Reviews  \\\n",
       "0  Product is okay but overpriced with Amazon.  N...   \n",
       "1  Products from The Ordinary are amazing, especi...   \n",
       "2                        It gives a beautiful glow !   \n",
       "3  Un muy buen producto. Me está gustando mucho. ...   \n",
       "4  Not sure why everyone in the reviews doesn’t l...   \n",
       "\n",
       "                                Preprocessed Reviews  Polarity  Subjectivity  \n",
       "0  Product okay overpriced Amazon. Next time purc...  0.250000      0.250000  \n",
       "1  Products The Ordinary amazing, especially pric...  0.271429      0.635714  \n",
       "2                           It give beautiful glow !  1.000000      1.000000  \n",
       "3  Un muy buen producto. Me está gustando mucho. ...  0.000000      0.000000  \n",
       "4  Not sure everyone review doesn’t like product ...  0.482813      0.772222  "
      ]
     },
     "execution_count": 15,
     "metadata": {},
     "output_type": "execute_result"
    }
   ],
   "source": [
    "# Calculate polarity\n",
    "df['Polarity'] = df['Preprocessed Reviews'].apply(lambda x: TextBlob(x).sentiment[0])\n",
    "df['Subjectivity'] = df['Preprocessed Reviews'].apply(lambda x: TextBlob(x).sentiment[1])\n",
    "df.head()"
   ]
  },
  {
   "cell_type": "markdown",
   "id": "0018c635",
   "metadata": {},
   "source": [
    "VADER"
   ]
  },
  {
   "cell_type": "code",
   "execution_count": 16,
   "id": "541ea0fe",
   "metadata": {},
   "outputs": [],
   "source": [
    "from nltk.sentiment.vader import SentimentIntensityAnalyzer"
   ]
  },
  {
   "cell_type": "code",
   "execution_count": 17,
   "id": "68a7ee2f",
   "metadata": {},
   "outputs": [],
   "source": [
    "#get sentiment scores\n",
    "def getSIA(text):\n",
    "    \n",
    "    sia = SentimentIntensityAnalyzer()\n",
    "    sentiment = sia.polarity_scores(text)\n",
    "    return sentiment"
   ]
  },
  {
   "cell_type": "code",
   "execution_count": 18,
   "id": "aa5cb7e0",
   "metadata": {},
   "outputs": [],
   "source": [
    "#get sentiment score for each review\n",
    "\n",
    "compound = []\n",
    "neg = []\n",
    "pos = []\n",
    "neu = []\n",
    "\n",
    "for r in df['Reviews']:\n",
    "    SIA = getSIA(r)\n",
    "    compound.append(SIA['compound'])\n",
    "    neg.append(SIA['pos'])\n",
    "    pos.append(SIA['neg'])\n",
    "    neu.append(SIA['neu'])"
   ]
  },
  {
   "cell_type": "code",
   "execution_count": 19,
   "id": "39f5f88b",
   "metadata": {},
   "outputs": [
    {
     "data": {
      "text/html": [
       "<div>\n",
       "<style scoped>\n",
       "    .dataframe tbody tr th:only-of-type {\n",
       "        vertical-align: middle;\n",
       "    }\n",
       "\n",
       "    .dataframe tbody tr th {\n",
       "        vertical-align: top;\n",
       "    }\n",
       "\n",
       "    .dataframe thead th {\n",
       "        text-align: right;\n",
       "    }\n",
       "</style>\n",
       "<table border=\"1\" class=\"dataframe\">\n",
       "  <thead>\n",
       "    <tr style=\"text-align: right;\">\n",
       "      <th></th>\n",
       "      <th>Person</th>\n",
       "      <th>Ratings</th>\n",
       "      <th>Overall feedback</th>\n",
       "      <th>Reviews</th>\n",
       "      <th>Preprocessed Reviews</th>\n",
       "      <th>Polarity</th>\n",
       "      <th>Subjectivity</th>\n",
       "      <th>Overall Sentiment</th>\n",
       "      <th>Negative</th>\n",
       "      <th>Positive</th>\n",
       "      <th>Neutral</th>\n",
       "    </tr>\n",
       "  </thead>\n",
       "  <tbody>\n",
       "    <tr>\n",
       "      <th>0</th>\n",
       "      <td>1</td>\n",
       "      <td>3.0</td>\n",
       "      <td>Overpriced</td>\n",
       "      <td>Product is okay but overpriced with Amazon.  N...</td>\n",
       "      <td>Product okay overpriced Amazon. Next time purc...</td>\n",
       "      <td>0.250000</td>\n",
       "      <td>0.250000</td>\n",
       "      <td>0.3612</td>\n",
       "      <td>0.189</td>\n",
       "      <td>0.000</td>\n",
       "      <td>0.811</td>\n",
       "    </tr>\n",
       "    <tr>\n",
       "      <th>1</th>\n",
       "      <td>2</td>\n",
       "      <td>5.0</td>\n",
       "      <td>THIS STUFF WORKS</td>\n",
       "      <td>Products from The Ordinary are amazing, especi...</td>\n",
       "      <td>Products The Ordinary amazing, especially pric...</td>\n",
       "      <td>0.271429</td>\n",
       "      <td>0.635714</td>\n",
       "      <td>0.8102</td>\n",
       "      <td>0.164</td>\n",
       "      <td>0.109</td>\n",
       "      <td>0.728</td>\n",
       "    </tr>\n",
       "    <tr>\n",
       "      <th>2</th>\n",
       "      <td>3</td>\n",
       "      <td>5.0</td>\n",
       "      <td>Love!</td>\n",
       "      <td>It gives a beautiful glow !</td>\n",
       "      <td>It give beautiful glow !</td>\n",
       "      <td>1.000000</td>\n",
       "      <td>1.000000</td>\n",
       "      <td>0.6360</td>\n",
       "      <td>0.583</td>\n",
       "      <td>0.000</td>\n",
       "      <td>0.417</td>\n",
       "    </tr>\n",
       "    <tr>\n",
       "      <th>3</th>\n",
       "      <td>4</td>\n",
       "      <td>5.0</td>\n",
       "      <td>Bueno</td>\n",
       "      <td>Un muy buen producto. Me está gustando mucho. ...</td>\n",
       "      <td>Un muy buen producto. Me está gustando mucho. ...</td>\n",
       "      <td>0.000000</td>\n",
       "      <td>0.000000</td>\n",
       "      <td>0.0000</td>\n",
       "      <td>0.000</td>\n",
       "      <td>0.000</td>\n",
       "      <td>1.000</td>\n",
       "    </tr>\n",
       "    <tr>\n",
       "      <th>4</th>\n",
       "      <td>5</td>\n",
       "      <td>5.0</td>\n",
       "      <td>Amazing!! Love it</td>\n",
       "      <td>Not sure why everyone in the reviews doesn’t l...</td>\n",
       "      <td>Not sure everyone review doesn’t like product ...</td>\n",
       "      <td>0.482813</td>\n",
       "      <td>0.772222</td>\n",
       "      <td>0.9173</td>\n",
       "      <td>0.517</td>\n",
       "      <td>0.073</td>\n",
       "      <td>0.410</td>\n",
       "    </tr>\n",
       "    <tr>\n",
       "      <th>5</th>\n",
       "      <td>6</td>\n",
       "      <td>5.0</td>\n",
       "      <td>Es lo máximo!</td>\n",
       "      <td>Excelente producto. Recomendado</td>\n",
       "      <td>Excelente producto. Recomendado</td>\n",
       "      <td>0.000000</td>\n",
       "      <td>0.000000</td>\n",
       "      <td>0.0000</td>\n",
       "      <td>0.000</td>\n",
       "      <td>0.000</td>\n",
       "      <td>1.000</td>\n",
       "    </tr>\n",
       "    <tr>\n",
       "      <th>6</th>\n",
       "      <td>7</td>\n",
       "      <td>4.0</td>\n",
       "      <td>don't expect too much</td>\n",
       "      <td>The product leaves your skin smooth. Other tha...</td>\n",
       "      <td>The product leaf skin smooth. Other that, I ha...</td>\n",
       "      <td>0.162500</td>\n",
       "      <td>0.437500</td>\n",
       "      <td>0.5647</td>\n",
       "      <td>0.237</td>\n",
       "      <td>0.000</td>\n",
       "      <td>0.763</td>\n",
       "    </tr>\n",
       "    <tr>\n",
       "      <th>7</th>\n",
       "      <td>8</td>\n",
       "      <td>5.0</td>\n",
       "      <td>Good stuff</td>\n",
       "      <td>This stuff is strong. I actually exfoliate bef...</td>\n",
       "      <td>This stuff strong. I actually exfoliate I use ...</td>\n",
       "      <td>0.286667</td>\n",
       "      <td>0.446667</td>\n",
       "      <td>0.7351</td>\n",
       "      <td>0.118</td>\n",
       "      <td>0.000</td>\n",
       "      <td>0.882</td>\n",
       "    </tr>\n",
       "  </tbody>\n",
       "</table>\n",
       "</div>"
      ],
      "text/plain": [
       "   Person Ratings       Overall feedback  \\\n",
       "0       1     3.0             Overpriced   \n",
       "1       2     5.0       THIS STUFF WORKS   \n",
       "2       3     5.0                  Love!   \n",
       "3       4     5.0                  Bueno   \n",
       "4       5     5.0      Amazing!! Love it   \n",
       "5       6     5.0          Es lo máximo!   \n",
       "6       7     4.0  don't expect too much   \n",
       "7       8     5.0             Good stuff   \n",
       "\n",
       "                                             Reviews  \\\n",
       "0  Product is okay but overpriced with Amazon.  N...   \n",
       "1  Products from The Ordinary are amazing, especi...   \n",
       "2                        It gives a beautiful glow !   \n",
       "3  Un muy buen producto. Me está gustando mucho. ...   \n",
       "4  Not sure why everyone in the reviews doesn’t l...   \n",
       "5                    Excelente producto. Recomendado   \n",
       "6  The product leaves your skin smooth. Other tha...   \n",
       "7  This stuff is strong. I actually exfoliate bef...   \n",
       "\n",
       "                                Preprocessed Reviews  Polarity  Subjectivity  \\\n",
       "0  Product okay overpriced Amazon. Next time purc...  0.250000      0.250000   \n",
       "1  Products The Ordinary amazing, especially pric...  0.271429      0.635714   \n",
       "2                           It give beautiful glow !  1.000000      1.000000   \n",
       "3  Un muy buen producto. Me está gustando mucho. ...  0.000000      0.000000   \n",
       "4  Not sure everyone review doesn’t like product ...  0.482813      0.772222   \n",
       "5                    Excelente producto. Recomendado  0.000000      0.000000   \n",
       "6  The product leaf skin smooth. Other that, I ha...  0.162500      0.437500   \n",
       "7  This stuff strong. I actually exfoliate I use ...  0.286667      0.446667   \n",
       "\n",
       "   Overall Sentiment  Negative  Positive  Neutral  \n",
       "0             0.3612     0.189     0.000    0.811  \n",
       "1             0.8102     0.164     0.109    0.728  \n",
       "2             0.6360     0.583     0.000    0.417  \n",
       "3             0.0000     0.000     0.000    1.000  \n",
       "4             0.9173     0.517     0.073    0.410  \n",
       "5             0.0000     0.000     0.000    1.000  \n",
       "6             0.5647     0.237     0.000    0.763  \n",
       "7             0.7351     0.118     0.000    0.882  "
      ]
     },
     "execution_count": 19,
     "metadata": {},
     "output_type": "execute_result"
    }
   ],
   "source": [
    "#Store sentiment scores in dataset\n",
    "df['Overall Sentiment'] = compound\n",
    "df['Negative'] = neg\n",
    "df['Positive'] = pos\n",
    "df['Neutral'] = neu\n",
    "df"
   ]
  },
  {
   "cell_type": "markdown",
   "id": "40867fce",
   "metadata": {},
   "source": [
    "#### Compare overall sentiment score with ratings"
   ]
  },
  {
   "cell_type": "code",
   "execution_count": 20,
   "id": "ec70afd2",
   "metadata": {},
   "outputs": [
    {
     "data": {
      "text/plain": [
       "Text(0.5, 1.0, 'Overall Score by Amazon Star Review')"
      ]
     },
     "execution_count": 20,
     "metadata": {},
     "output_type": "execute_result"
    },
    {
     "data": {
      "image/png": "[encoded data removed]",
      "text/plain": [
       "<Figure size 432x288 with 1 Axes>"
      ]
     },
     "metadata": {
      "needs_background": "light"
     },
     "output_type": "display_data"
    }
   ],
   "source": [
    "ax = sns.barplot(data=df, x='Ratings', y='Overall Sentiment')\n",
    "ax.set_title('Overall Score by Amazon Star Review')"
   ]
  },
  {
   "cell_type": "markdown",
   "id": "3fed2cf9",
   "metadata": {},
   "source": [
    "#### RoBERTa Model from Hugging Face transformers\n",
    "Transfer Learning\n",
    "\n",
    "This model is trained on a large corpus of data. Transformer model accounts for the words but also for the context and the relationship between words."
   ]
  },
  {
   "cell_type": "code",
   "execution_count": 21,
   "id": "fac03f7d",
   "metadata": {},
   "outputs": [],
   "source": [
    "\n",
    "from transformers import AutoTokenizer, TFAutoModelForSequenceClassification \n",
    "from scipy.special import softmax #to normalize between 0 and 1"
   ]
  },
  {
   "cell_type": "code",
   "execution_count": 22,
   "id": "00fe7d6f",
   "metadata": {},
   "outputs": [
    {
     "name": "stderr",
     "output_type": "stream",
     "text": [
      "All model checkpoint layers were used when initializing TFRobertaForSequenceClassification.\n",
      "\n",
      "All the layers of TFRobertaForSequenceClassification were initialized from the model checkpoint at cardiffnlp/twitter-roberta-base-sentiment.\n",
      "If your task is similar to the task the model of the checkpoint was trained on, you can already use TFRobertaForSequenceClassification for predictions without further training.\n"
     ]
    }
   ],
   "source": [
    "# load model and tokenizer\n",
    "roberta = \"cardiffnlp/twitter-roberta-base-sentiment\"\n",
    "\n",
    "model = TFAutoModelForSequenceClassification.from_pretrained(roberta)\n",
    "tokenizer = AutoTokenizer.from_pretrained(roberta)\n",
    "\n"
   ]
  },
  {
   "cell_type": "code",
   "execution_count": 23,
   "id": "83b343b7",
   "metadata": {},
   "outputs": [],
   "source": [
    "def polarity_scores_roberta(text):\n",
    "    \n",
    "    encoded_text = tokenizer(text, return_tensors='tf')\n",
    "    \n",
    "    # output = model(encoded_tweet['input_ids'], encoded_tweet['attention_mask'])\n",
    "    \n",
    "   # Inputs ids: it’s kinda self explanatory, it’s the tensor obtained from converting the tweet into numbers.\n",
    "\n",
    "    #Attention mask: this argument indicates to the model which tokens should get more attention, and which should not.\n",
    "    \n",
    "    output = model(**encoded_text)\n",
    "    score = output[0][0].numpy()\n",
    "    score = softmax(score)\n",
    "    score_dict ={\n",
    "       'roberta_Negative' : score[0],\n",
    "       'roberta_Neutral' : score[1],\n",
    "       'roberta_Positive' : score[2],\n",
    "       }\n",
    "    return score_dict"
   ]
  },
  {
   "cell_type": "code",
   "execution_count": 24,
   "id": "b36c55b9",
   "metadata": {},
   "outputs": [
    {
     "data": {
      "application/vnd.jupyter.widget-view+json": {
       "model_id": "61493edc902a47d399f0c1c664f77659",
       "version_major": 2,
       "version_minor": 0
      },
      "text/plain": [
       "  0%|          | 0/8 [00:00<?, ?it/s]"
      ]
     },
     "metadata": {},
     "output_type": "display_data"
    }
   ],
   "source": [
    "from tqdm.notebook import tqdm\n",
    "res = {}\n",
    "for i, row in tqdm(df.iterrows(), total=len(df)):\n",
    "   \n",
    "        text = row['Reviews']\n",
    "        myid = i\n",
    "       \n",
    "        roberta_result = polarity_scores_roberta(text)\n",
    "        res[myid] = roberta_result"
   ]
  },
  {
   "cell_type": "code",
   "execution_count": 25,
   "id": "42f85fb9",
   "metadata": {},
   "outputs": [
    {
     "data": {
      "text/html": [
       "<div>\n",
       "<style scoped>\n",
       "    .dataframe tbody tr th:only-of-type {\n",
       "        vertical-align: middle;\n",
       "    }\n",
       "\n",
       "    .dataframe tbody tr th {\n",
       "        vertical-align: top;\n",
       "    }\n",
       "\n",
       "    .dataframe thead th {\n",
       "        text-align: right;\n",
       "    }\n",
       "</style>\n",
       "<table border=\"1\" class=\"dataframe\">\n",
       "  <thead>\n",
       "    <tr style=\"text-align: right;\">\n",
       "      <th></th>\n",
       "      <th>roberta_Negative</th>\n",
       "      <th>roberta_Neutral</th>\n",
       "      <th>roberta_Positive</th>\n",
       "    </tr>\n",
       "  </thead>\n",
       "  <tbody>\n",
       "    <tr>\n",
       "      <th>0</th>\n",
       "      <td>0.086407</td>\n",
       "      <td>0.402382</td>\n",
       "      <td>0.511211</td>\n",
       "    </tr>\n",
       "    <tr>\n",
       "      <th>1</th>\n",
       "      <td>0.165997</td>\n",
       "      <td>0.320522</td>\n",
       "      <td>0.513481</td>\n",
       "    </tr>\n",
       "    <tr>\n",
       "      <th>2</th>\n",
       "      <td>0.001440</td>\n",
       "      <td>0.024701</td>\n",
       "      <td>0.973859</td>\n",
       "    </tr>\n",
       "    <tr>\n",
       "      <th>3</th>\n",
       "      <td>0.185507</td>\n",
       "      <td>0.701929</td>\n",
       "      <td>0.112565</td>\n",
       "    </tr>\n",
       "    <tr>\n",
       "      <th>4</th>\n",
       "      <td>0.048737</td>\n",
       "      <td>0.064936</td>\n",
       "      <td>0.886327</td>\n",
       "    </tr>\n",
       "    <tr>\n",
       "      <th>5</th>\n",
       "      <td>0.017265</td>\n",
       "      <td>0.376639</td>\n",
       "      <td>0.606095</td>\n",
       "    </tr>\n",
       "    <tr>\n",
       "      <th>6</th>\n",
       "      <td>0.007999</td>\n",
       "      <td>0.128160</td>\n",
       "      <td>0.863841</td>\n",
       "    </tr>\n",
       "    <tr>\n",
       "      <th>7</th>\n",
       "      <td>0.006036</td>\n",
       "      <td>0.063420</td>\n",
       "      <td>0.930544</td>\n",
       "    </tr>\n",
       "  </tbody>\n",
       "</table>\n",
       "</div>"
      ],
      "text/plain": [
       "   roberta_Negative  roberta_Neutral  roberta_Positive\n",
       "0          0.086407         0.402382          0.511211\n",
       "1          0.165997         0.320522          0.513481\n",
       "2          0.001440         0.024701          0.973859\n",
       "3          0.185507         0.701929          0.112565\n",
       "4          0.048737         0.064936          0.886327\n",
       "5          0.017265         0.376639          0.606095\n",
       "6          0.007999         0.128160          0.863841\n",
       "7          0.006036         0.063420          0.930544"
      ]
     },
     "execution_count": 25,
     "metadata": {},
     "output_type": "execute_result"
    }
   ],
   "source": [
    "res = pd.DataFrame.from_dict(res).T\n",
    "res"
   ]
  },
  {
   "cell_type": "code",
   "execution_count": 32,
   "id": "e94c0dcf",
   "metadata": {},
   "outputs": [
    {
     "data": {
      "text/html": [
       "<div>\n",
       "<style scoped>\n",
       "    .dataframe tbody tr th:only-of-type {\n",
       "        vertical-align: middle;\n",
       "    }\n",
       "\n",
       "    .dataframe tbody tr th {\n",
       "        vertical-align: top;\n",
       "    }\n",
       "\n",
       "    .dataframe thead th {\n",
       "        text-align: right;\n",
       "    }\n",
       "</style>\n",
       "<table border=\"1\" class=\"dataframe\">\n",
       "  <thead>\n",
       "    <tr style=\"text-align: right;\">\n",
       "      <th></th>\n",
       "      <th>Ratings</th>\n",
       "      <th>Overall feedback</th>\n",
       "      <th>Reviews</th>\n",
       "      <th>Preprocessed Reviews</th>\n",
       "      <th>Polarity</th>\n",
       "      <th>Subjectivity</th>\n",
       "      <th>overall_Setiment_Vaders</th>\n",
       "      <th>vaders_Negative</th>\n",
       "      <th>vaders_Positive</th>\n",
       "      <th>vaders_Neutral</th>\n",
       "      <th>roberta_Negative</th>\n",
       "      <th>roberta_Neutral</th>\n",
       "      <th>roberta_Positive</th>\n",
       "    </tr>\n",
       "    <tr>\n",
       "      <th>Person</th>\n",
       "      <th></th>\n",
       "      <th></th>\n",
       "      <th></th>\n",
       "      <th></th>\n",
       "      <th></th>\n",
       "      <th></th>\n",
       "      <th></th>\n",
       "      <th></th>\n",
       "      <th></th>\n",
       "      <th></th>\n",
       "      <th></th>\n",
       "      <th></th>\n",
       "      <th></th>\n",
       "    </tr>\n",
       "  </thead>\n",
       "  <tbody>\n",
       "    <tr>\n",
       "      <th>1</th>\n",
       "      <td>3.0</td>\n",
       "      <td>Overpriced</td>\n",
       "      <td>Product is okay but overpriced with Amazon.  N...</td>\n",
       "      <td>Product okay overpriced Amazon. Next time purc...</td>\n",
       "      <td>0.250000</td>\n",
       "      <td>0.250000</td>\n",
       "      <td>0.3612</td>\n",
       "      <td>0.189</td>\n",
       "      <td>0.000</td>\n",
       "      <td>0.811</td>\n",
       "      <td>0.086407</td>\n",
       "      <td>0.402382</td>\n",
       "      <td>0.511211</td>\n",
       "    </tr>\n",
       "    <tr>\n",
       "      <th>2</th>\n",
       "      <td>5.0</td>\n",
       "      <td>THIS STUFF WORKS</td>\n",
       "      <td>Products from The Ordinary are amazing, especi...</td>\n",
       "      <td>Products The Ordinary amazing, especially pric...</td>\n",
       "      <td>0.271429</td>\n",
       "      <td>0.635714</td>\n",
       "      <td>0.8102</td>\n",
       "      <td>0.164</td>\n",
       "      <td>0.109</td>\n",
       "      <td>0.728</td>\n",
       "      <td>0.165997</td>\n",
       "      <td>0.320522</td>\n",
       "      <td>0.513481</td>\n",
       "    </tr>\n",
       "    <tr>\n",
       "      <th>3</th>\n",
       "      <td>5.0</td>\n",
       "      <td>Love!</td>\n",
       "      <td>It gives a beautiful glow !</td>\n",
       "      <td>It give beautiful glow !</td>\n",
       "      <td>1.000000</td>\n",
       "      <td>1.000000</td>\n",
       "      <td>0.6360</td>\n",
       "      <td>0.583</td>\n",
       "      <td>0.000</td>\n",
       "      <td>0.417</td>\n",
       "      <td>0.001440</td>\n",
       "      <td>0.024701</td>\n",
       "      <td>0.973859</td>\n",
       "    </tr>\n",
       "    <tr>\n",
       "      <th>4</th>\n",
       "      <td>5.0</td>\n",
       "      <td>Bueno</td>\n",
       "      <td>Un muy buen producto. Me está gustando mucho. ...</td>\n",
       "      <td>Un muy buen producto. Me está gustando mucho. ...</td>\n",
       "      <td>0.000000</td>\n",
       "      <td>0.000000</td>\n",
       "      <td>0.0000</td>\n",
       "      <td>0.000</td>\n",
       "      <td>0.000</td>\n",
       "      <td>1.000</td>\n",
       "      <td>0.185507</td>\n",
       "      <td>0.701929</td>\n",
       "      <td>0.112565</td>\n",
       "    </tr>\n",
       "    <tr>\n",
       "      <th>5</th>\n",
       "      <td>5.0</td>\n",
       "      <td>Amazing!! Love it</td>\n",
       "      <td>Not sure why everyone in the reviews doesn’t l...</td>\n",
       "      <td>Not sure everyone review doesn’t like product ...</td>\n",
       "      <td>0.482813</td>\n",
       "      <td>0.772222</td>\n",
       "      <td>0.9173</td>\n",
       "      <td>0.517</td>\n",
       "      <td>0.073</td>\n",
       "      <td>0.410</td>\n",
       "      <td>0.048737</td>\n",
       "      <td>0.064936</td>\n",
       "      <td>0.886327</td>\n",
       "    </tr>\n",
       "    <tr>\n",
       "      <th>6</th>\n",
       "      <td>5.0</td>\n",
       "      <td>Es lo máximo!</td>\n",
       "      <td>Excelente producto. Recomendado</td>\n",
       "      <td>Excelente producto. Recomendado</td>\n",
       "      <td>0.000000</td>\n",
       "      <td>0.000000</td>\n",
       "      <td>0.0000</td>\n",
       "      <td>0.000</td>\n",
       "      <td>0.000</td>\n",
       "      <td>1.000</td>\n",
       "      <td>0.017265</td>\n",
       "      <td>0.376639</td>\n",
       "      <td>0.606095</td>\n",
       "    </tr>\n",
       "    <tr>\n",
       "      <th>7</th>\n",
       "      <td>4.0</td>\n",
       "      <td>don't expect too much</td>\n",
       "      <td>The product leaves your skin smooth. Other tha...</td>\n",
       "      <td>The product leaf skin smooth. Other that, I ha...</td>\n",
       "      <td>0.162500</td>\n",
       "      <td>0.437500</td>\n",
       "      <td>0.5647</td>\n",
       "      <td>0.237</td>\n",
       "      <td>0.000</td>\n",
       "      <td>0.763</td>\n",
       "      <td>0.007999</td>\n",
       "      <td>0.128160</td>\n",
       "      <td>0.863841</td>\n",
       "    </tr>\n",
       "    <tr>\n",
       "      <th>8</th>\n",
       "      <td>5.0</td>\n",
       "      <td>Good stuff</td>\n",
       "      <td>This stuff is strong. I actually exfoliate bef...</td>\n",
       "      <td>This stuff strong. I actually exfoliate I use ...</td>\n",
       "      <td>0.286667</td>\n",
       "      <td>0.446667</td>\n",
       "      <td>0.7351</td>\n",
       "      <td>0.118</td>\n",
       "      <td>0.000</td>\n",
       "      <td>0.882</td>\n",
       "      <td>0.006036</td>\n",
       "      <td>0.063420</td>\n",
       "      <td>0.930544</td>\n",
       "    </tr>\n",
       "  </tbody>\n",
       "</table>\n",
       "</div>"
      ],
      "text/plain": [
       "       Ratings       Overall feedback  \\\n",
       "Person                                  \n",
       "1          3.0             Overpriced   \n",
       "2          5.0       THIS STUFF WORKS   \n",
       "3          5.0                  Love!   \n",
       "4          5.0                  Bueno   \n",
       "5          5.0      Amazing!! Love it   \n",
       "6          5.0          Es lo máximo!   \n",
       "7          4.0  don't expect too much   \n",
       "8          5.0             Good stuff   \n",
       "\n",
       "                                                  Reviews  \\\n",
       "Person                                                      \n",
       "1       Product is okay but overpriced with Amazon.  N...   \n",
       "2       Products from The Ordinary are amazing, especi...   \n",
       "3                             It gives a beautiful glow !   \n",
       "4       Un muy buen producto. Me está gustando mucho. ...   \n",
       "5       Not sure why everyone in the reviews doesn’t l...   \n",
       "6                         Excelente producto. Recomendado   \n",
       "7       The product leaves your skin smooth. Other tha...   \n",
       "8       This stuff is strong. I actually exfoliate bef...   \n",
       "\n",
       "                                     Preprocessed Reviews  Polarity  \\\n",
       "Person                                                                \n",
       "1       Product okay overpriced Amazon. Next time purc...  0.250000   \n",
       "2       Products The Ordinary amazing, especially pric...  0.271429   \n",
       "3                                It give beautiful glow !  1.000000   \n",
       "4       Un muy buen producto. Me está gustando mucho. ...  0.000000   \n",
       "5       Not sure everyone review doesn’t like product ...  0.482813   \n",
       "6                         Excelente producto. Recomendado  0.000000   \n",
       "7       The product leaf skin smooth. Other that, I ha...  0.162500   \n",
       "8       This stuff strong. I actually exfoliate I use ...  0.286667   \n",
       "\n",
       "        Subjectivity  overall_Setiment_Vaders  vaders_Negative  \\\n",
       "Person                                                           \n",
       "1           0.250000                   0.3612            0.189   \n",
       "2           0.635714                   0.8102            0.164   \n",
       "3           1.000000                   0.6360            0.583   \n",
       "4           0.000000                   0.0000            0.000   \n",
       "5           0.772222                   0.9173            0.517   \n",
       "6           0.000000                   0.0000            0.000   \n",
       "7           0.437500                   0.5647            0.237   \n",
       "8           0.446667                   0.7351            0.118   \n",
       "\n",
       "        vaders_Positive  vaders_Neutral  roberta_Negative  roberta_Neutral  \\\n",
       "Person                                                                       \n",
       "1                 0.000           0.811          0.086407         0.402382   \n",
       "2                 0.109           0.728          0.165997         0.320522   \n",
       "3                 0.000           0.417          0.001440         0.024701   \n",
       "4                 0.000           1.000          0.185507         0.701929   \n",
       "5                 0.073           0.410          0.048737         0.064936   \n",
       "6                 0.000           1.000          0.017265         0.376639   \n",
       "7                 0.000           0.763          0.007999         0.128160   \n",
       "8                 0.000           0.882          0.006036         0.063420   \n",
       "\n",
       "        roberta_Positive  \n",
       "Person                    \n",
       "1               0.511211  \n",
       "2               0.513481  \n",
       "3               0.973859  \n",
       "4               0.112565  \n",
       "5               0.886327  \n",
       "6               0.606095  \n",
       "7               0.863841  \n",
       "8               0.930544  "
      ]
     },
     "execution_count": 32,
     "metadata": {},
     "output_type": "execute_result"
    }
   ],
   "source": [
    "df_combined = pd.concat([df,res], axis=1)\n",
    "df_combined = df_combined.rename(columns = {'Negative':'vaders_Negative', 'Positive':'vaders_Positive', 'Neutral':'vaders_Neutral', 'Overall Sentiment':'overall_Setiment_Vaders'})\n",
    "\n",
    "df_combined.set_index('Person', inplace = True)\n",
    "df_combined"
   ]
  },
  {
   "cell_type": "markdown",
   "id": "eeb3c849",
   "metadata": {},
   "source": [
    "RoBERTa model is more accurate than Vader"
   ]
  },
  {
   "cell_type": "code",
   "execution_count": 33,
   "id": "9fedfa4c",
   "metadata": {},
   "outputs": [],
   "source": [
    "df_combined.to_csv('Reviews Sentiment Analysis.csv')"
   ]
  },
  {
   "cell_type": "markdown",
   "id": "65348424",
   "metadata": {},
   "source": [
    "#### Visualizations"
   ]
  },
  {
   "cell_type": "code",
   "execution_count": 34,
   "id": "cf77e4a9",
   "metadata": {},
   "outputs": [
    {
     "data": {
      "text/plain": [
       "Text(0.5, 1.0, 'Positive Score by Amazon Star Review')"
      ]
     },
     "execution_count": 34,
     "metadata": {},
     "output_type": "execute_result"
    },
    {
     "data": {
      "image/png": "[encoded data removed]",
      "text/plain": [
       "<Figure size 432x288 with 1 Axes>"
      ]
     },
     "metadata": {
      "needs_background": "light"
     },
     "output_type": "display_data"
    }
   ],
   "source": [
    "ax = sns.scatterplot(data=df_combined, x='Ratings', y='roberta_Positive')\n",
    "ax.set_title('Positive Score by Amazon Star Review')"
   ]
  },
  {
   "cell_type": "code",
   "execution_count": 35,
   "id": "d82a5193",
   "metadata": {},
   "outputs": [
    {
     "data": {
      "text/plain": [
       "Text(0.5, 1.0, 'Negative Score by Amazon Star Review')"
      ]
     },
     "execution_count": 35,
     "metadata": {},
     "output_type": "execute_result"
    },
    {
     "data": {
      "image/png": "[encoded data removed]",
      "text/plain": [
       "<Figure size 432x288 with 1 Axes>"
      ]
     },
     "metadata": {
      "needs_background": "light"
     },
     "output_type": "display_data"
    }
   ],
   "source": [
    "ax = sns.scatterplot(data=df_combined, x='Ratings', y='roberta_Negative')\n",
    "ax.set_title('Negative Score by Amazon Star Review')"
   ]
  },
  {
   "cell_type": "code",
   "execution_count": null,
   "id": "219b1420",
   "metadata": {},
   "outputs": [],
   "source": []
  }
 ],
 "metadata": {
  "kernelspec": {
   "display_name": "Python 3 (ipykernel)",
   "language": "python",
   "name": "python3"
  },
  "language_info": {
   "codemirror_mode": {
    "name": "ipython",
    "version": 3
   },
   "file_extension": ".py",
   "mimetype": "text/x-python",
   "name": "python",
   "nbconvert_exporter": "python",
   "pygments_lexer": "ipython3",
   "version": "3.8.10"
  }
 },
 "nbformat": 4,
 "nbformat_minor": 5
}
